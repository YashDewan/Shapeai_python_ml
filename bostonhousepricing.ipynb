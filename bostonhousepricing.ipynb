{
  "nbformat": 4,
  "nbformat_minor": 0,
  "metadata": {
    "colab": {
      "name": "bostonhousepricing.ipynb",
      "provenance": []
    },
    "kernelspec": {
      "name": "python3",
      "display_name": "Python 3"
    },
    "language_info": {
      "name": "python"
    }
  },
  "cells": [
    {
      "cell_type": "code",
      "metadata": {
        "colab": {
          "base_uri": "https://localhost:8080/"
        },
        "id": "-RJKLmbwBLKT",
        "outputId": "0378d0ad-4a41-4de3-9858-b255685a2ddf"
      },
      "source": [
        "import sklearn.datasets\n",
        "from sklearn.model_selection import train_test_split\n",
        "from   sklearn import linear_model\n",
        "import numpy as np\n",
        "import pandas as pd\n",
        "import matplotlib.pyplot as plt\n",
        "from sklearn.metrics import mean_squared_error\n",
        "dts = sklearn.datasets.load_boston()\n",
        "pddts = pd.DataFrame(dts.data,columns = dts.feature_names)\n",
        "pddts['price'] = dts.target\n",
        "print(pddts.head(10))\n",
        "X = pddts.drop('price',axis=1)  \n",
        "print(X)\n",
        "Y = pddts['price']\n",
        "print(Y)\n",
        "X_train,X_test,Y_train,Y_test = train_test_split(X,Y, test_size=0.20, random_state=20)\n",
        "#yoyo\n",
        "print(X_train.shape,X_test.shape,Y_train.shape,Y_test.shape)\n",
        "mymodel = linear_model.LinearRegression()\n",
        "mymodel.fit(X_train,Y_train)\n",
        "Y_AC=mymodel.predict(X_test)\n",
        "rmse=(np.sqrt(mean_squared_error(Y_test,Y_AC)))\n",
        "print(\"the model performance for testing set\")\n",
        "print(\"RMSE is {}\".format(rmse))\n",
        "\n",
        "\n",
        "\n",
        "\n",
        "\n",
        "\n",
        "\n"
      ],
      "execution_count": null,
      "outputs": [
        {
          "output_type": "stream",
          "text": [
            "      CRIM    ZN  INDUS  CHAS    NOX  ...    TAX  PTRATIO       B  LSTAT  price\n",
            "0  0.00632  18.0   2.31   0.0  0.538  ...  296.0     15.3  396.90   4.98   24.0\n",
            "1  0.02731   0.0   7.07   0.0  0.469  ...  242.0     17.8  396.90   9.14   21.6\n",
            "2  0.02729   0.0   7.07   0.0  0.469  ...  242.0     17.8  392.83   4.03   34.7\n",
            "3  0.03237   0.0   2.18   0.0  0.458  ...  222.0     18.7  394.63   2.94   33.4\n",
            "4  0.06905   0.0   2.18   0.0  0.458  ...  222.0     18.7  396.90   5.33   36.2\n",
            "5  0.02985   0.0   2.18   0.0  0.458  ...  222.0     18.7  394.12   5.21   28.7\n",
            "6  0.08829  12.5   7.87   0.0  0.524  ...  311.0     15.2  395.60  12.43   22.9\n",
            "7  0.14455  12.5   7.87   0.0  0.524  ...  311.0     15.2  396.90  19.15   27.1\n",
            "8  0.21124  12.5   7.87   0.0  0.524  ...  311.0     15.2  386.63  29.93   16.5\n",
            "9  0.17004  12.5   7.87   0.0  0.524  ...  311.0     15.2  386.71  17.10   18.9\n",
            "\n",
            "[10 rows x 14 columns]\n",
            "        CRIM    ZN  INDUS  CHAS    NOX  ...  RAD    TAX  PTRATIO       B  LSTAT\n",
            "0    0.00632  18.0   2.31   0.0  0.538  ...  1.0  296.0     15.3  396.90   4.98\n",
            "1    0.02731   0.0   7.07   0.0  0.469  ...  2.0  242.0     17.8  396.90   9.14\n",
            "2    0.02729   0.0   7.07   0.0  0.469  ...  2.0  242.0     17.8  392.83   4.03\n",
            "3    0.03237   0.0   2.18   0.0  0.458  ...  3.0  222.0     18.7  394.63   2.94\n",
            "4    0.06905   0.0   2.18   0.0  0.458  ...  3.0  222.0     18.7  396.90   5.33\n",
            "..       ...   ...    ...   ...    ...  ...  ...    ...      ...     ...    ...\n",
            "501  0.06263   0.0  11.93   0.0  0.573  ...  1.0  273.0     21.0  391.99   9.67\n",
            "502  0.04527   0.0  11.93   0.0  0.573  ...  1.0  273.0     21.0  396.90   9.08\n",
            "503  0.06076   0.0  11.93   0.0  0.573  ...  1.0  273.0     21.0  396.90   5.64\n",
            "504  0.10959   0.0  11.93   0.0  0.573  ...  1.0  273.0     21.0  393.45   6.48\n",
            "505  0.04741   0.0  11.93   0.0  0.573  ...  1.0  273.0     21.0  396.90   7.88\n",
            "\n",
            "[506 rows x 13 columns]\n",
            "0      24.0\n",
            "1      21.6\n",
            "2      34.7\n",
            "3      33.4\n",
            "4      36.2\n",
            "       ... \n",
            "501    22.4\n",
            "502    20.6\n",
            "503    23.9\n",
            "504    22.0\n",
            "505    11.9\n",
            "Name: price, Length: 506, dtype: float64\n",
            "(404, 13) (102, 13) (404,) (102,)\n",
            "the model performance for testing set\n",
            "RMSE is 4.061447029807459\n"
          ],
          "name": "stdout"
        }
      ]
    },
    {
      "cell_type": "code",
      "metadata": {
        "id": "daWDFKe5BWlA"
      },
      "source": [
        ""
      ],
      "execution_count": null,
      "outputs": []
    }
  ]
}